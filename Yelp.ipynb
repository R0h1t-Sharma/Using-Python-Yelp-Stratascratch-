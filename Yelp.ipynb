{
 "cells": [
  {
   "cell_type": "code",
   "execution_count": 41,
   "id": "73869137-152e-4b0e-b463-400daa989d9c",
   "metadata": {},
   "outputs": [],
   "source": [
    "import pandas as pd\n",
    "\n",
    "# Read the CSV file\n",
    "yelp_business = pd.read_csv(r\"D:\\STRATASCRATCH 1\\yelp_business\\yelp_business.csv\")\n",
    "yelp_reviews = pd.read_csv(r\"D:\\STRATASCRATCH 1\\yelp_business\\yelp_reviews.csv\")\n",
    "yelp_checkin = pd.read_csv(r\"D:\\STRATASCRATCH 1\\yelp_business\\yelp_checkin.csv\")"
   ]
  },
  {
   "cell_type": "markdown",
   "id": "7cb9df1a-0a6b-404b-a79c-da9f3aacce41",
   "metadata": {},
   "source": [
    "### 1 -Find the number of Yelp businesses that sell pizza."
   ]
  },
  {
   "cell_type": "code",
   "execution_count": 2,
   "id": "db68893d-224b-4203-b37b-532806e65b09",
   "metadata": {},
   "outputs": [],
   "source": [
    "# Import your libraries\n",
    "import pandas as pd\n",
    "\n",
    "# Start writing code\n",
    "yelp_business.head()\n",
    "import pandas as pd\n",
    "import numpy as np\n",
    "\n",
    "pizza = yelp_business[yelp_business['categories'].str.contains('Pizza', case = False)]\n",
    "result = len(pizza)"
   ]
  },
  {
   "cell_type": "markdown",
   "id": "9c2f3f7b-a258-4197-8ee6-015bb4d95cab",
   "metadata": {},
   "source": [
    "### 2 -Find the top 5 cities with the most 5-star businesses. Output the city name along with the number of 5-star businesses. Include both open and closed businesses.\n",
    "In the case of multiple cities having the same number of 5-star businesses, use the ranking function returning the lowest rank in the group and output cities with a rank smaller than or equal to 5."
   ]
  },
  {
   "cell_type": "code",
   "execution_count": 3,
   "id": "b64bd771-ed20-4797-a02c-0786b2a95872",
   "metadata": {},
   "outputs": [
    {
     "data": {
      "text/html": [
       "<div>\n",
       "<style scoped>\n",
       "    .dataframe tbody tr th:only-of-type {\n",
       "        vertical-align: middle;\n",
       "    }\n",
       "\n",
       "    .dataframe tbody tr th {\n",
       "        vertical-align: top;\n",
       "    }\n",
       "\n",
       "    .dataframe thead th {\n",
       "        text-align: right;\n",
       "    }\n",
       "</style>\n",
       "<table border=\"1\" class=\"dataframe\">\n",
       "  <thead>\n",
       "    <tr style=\"text-align: right;\">\n",
       "      <th></th>\n",
       "      <th>city</th>\n",
       "      <th>five_star_count</th>\n",
       "    </tr>\n",
       "  </thead>\n",
       "  <tbody>\n",
       "    <tr>\n",
       "      <th>0</th>\n",
       "      <td>Phoenix</td>\n",
       "      <td>5</td>\n",
       "    </tr>\n",
       "    <tr>\n",
       "      <th>1</th>\n",
       "      <td>Las Vegas</td>\n",
       "      <td>4</td>\n",
       "    </tr>\n",
       "    <tr>\n",
       "      <th>2</th>\n",
       "      <td>Toronto</td>\n",
       "      <td>4</td>\n",
       "    </tr>\n",
       "    <tr>\n",
       "      <th>3</th>\n",
       "      <td>Urbana</td>\n",
       "      <td>2</td>\n",
       "    </tr>\n",
       "    <tr>\n",
       "      <th>4</th>\n",
       "      <td>Scottsdale</td>\n",
       "      <td>2</td>\n",
       "    </tr>\n",
       "  </tbody>\n",
       "</table>\n",
       "</div>"
      ],
      "text/plain": [
       "         city  five_star_count\n",
       "0     Phoenix                5\n",
       "1   Las Vegas                4\n",
       "2     Toronto                4\n",
       "3      Urbana                2\n",
       "4  Scottsdale                2"
      ]
     },
     "execution_count": 3,
     "metadata": {},
     "output_type": "execute_result"
    }
   ],
   "source": [
    "import pandas as pd\n",
    "\n",
    "# Read the CSV file\n",
    "#yelp_business = pd.read_csv(r\"D:\\STRATASCRATCH 1\\yelp_business\\yelp_business.csv\")\n",
    "\n",
    "# Filter for 5-star businesses\n",
    "five_star_businesses = yelp_business[yelp_business['stars'] == 5]\n",
    "\n",
    "# Count 5-star businesses by city\n",
    "city_counts = five_star_businesses['city'].value_counts().reset_index()\n",
    "city_counts.columns = ['city', 'five_star_count']\n",
    "\n",
    "# Rank the cities by number of 5-star businesses\n",
    "city_counts['rank'] = city_counts['five_star_count'].rank(method='min', ascending=False)\n",
    "\n",
    "# Filter for cities with rank <= 5\n",
    "top_cities = city_counts[city_counts['rank'] <= 5]\n",
    "\n",
    "# Output the result\n",
    "top_cities = top_cities[['city', 'five_star_count']].reset_index(drop=True)\n",
    "top_cities.head()\n"
   ]
  },
  {
   "cell_type": "markdown",
   "id": "ce983e49-26bb-47a4-9ad9-527da2d4e603",
   "metadata": {},
   "source": [
    "### 3 -Find the review_text that received the highest number of  'cool' votes.\n",
    "Output the business name along with the review text with the highest numbef of 'cool' votes."
   ]
  },
  {
   "cell_type": "code",
   "execution_count": 9,
   "id": "270bb446-f488-4ead-8668-052ba3495b82",
   "metadata": {},
   "outputs": [
    {
     "data": {
      "text/html": [
       "<div>\n",
       "<style scoped>\n",
       "    .dataframe tbody tr th:only-of-type {\n",
       "        vertical-align: middle;\n",
       "    }\n",
       "\n",
       "    .dataframe tbody tr th {\n",
       "        vertical-align: top;\n",
       "    }\n",
       "\n",
       "    .dataframe thead th {\n",
       "        text-align: right;\n",
       "    }\n",
       "</style>\n",
       "<table border=\"1\" class=\"dataframe\">\n",
       "  <thead>\n",
       "    <tr style=\"text-align: right;\">\n",
       "      <th></th>\n",
       "      <th>business_name</th>\n",
       "      <th>review_text</th>\n",
       "    </tr>\n",
       "  </thead>\n",
       "  <tbody>\n",
       "    <tr>\n",
       "      <th>30</th>\n",
       "      <td>Roka Akor</td>\n",
       "      <td>I hate to admit it, but it had been a long whi...</td>\n",
       "    </tr>\n",
       "    <tr>\n",
       "      <th>105</th>\n",
       "      <td>Lunardis</td>\n",
       "      <td>This is the nicest grocery store in the city. ...</td>\n",
       "    </tr>\n",
       "  </tbody>\n",
       "</table>\n",
       "</div>"
      ],
      "text/plain": [
       "    business_name                                        review_text\n",
       "30      Roka Akor  I hate to admit it, but it had been a long whi...\n",
       "105      Lunardis  This is the nicest grocery store in the city. ..."
      ]
     },
     "execution_count": 9,
     "metadata": {},
     "output_type": "execute_result"
    }
   ],
   "source": [
    "import pandas as pd\n",
    "import numpy as np\n",
    "\n",
    "result = yelp_reviews[yelp_reviews['cool'] ==yelp_reviews['cool'].max()][['business_name','review_text']]\n",
    "result"
   ]
  },
  {
   "cell_type": "markdown",
   "id": "3cdbdb98-debe-4409-a687-08b2b64ccc86",
   "metadata": {},
   "source": [
    "### 4 -Find the number of reviews received by Lo-Lo's Chicken & Waffles for each star.\n",
    "Output the number of stars along with the corresponding number of reviews.\n",
    "Sort records by stars in ascending order."
   ]
  },
  {
   "cell_type": "code",
   "execution_count": 10,
   "id": "e5bafd2f-c744-462b-b53f-cf588e2d5a19",
   "metadata": {},
   "outputs": [
    {
     "data": {
      "text/html": [
       "<div>\n",
       "<style scoped>\n",
       "    .dataframe tbody tr th:only-of-type {\n",
       "        vertical-align: middle;\n",
       "    }\n",
       "\n",
       "    .dataframe tbody tr th {\n",
       "        vertical-align: top;\n",
       "    }\n",
       "\n",
       "    .dataframe thead th {\n",
       "        text-align: right;\n",
       "    }\n",
       "</style>\n",
       "<table border=\"1\" class=\"dataframe\">\n",
       "  <thead>\n",
       "    <tr style=\"text-align: right;\">\n",
       "      <th></th>\n",
       "      <th>stars</th>\n",
       "      <th>number_of_reviews</th>\n",
       "    </tr>\n",
       "  </thead>\n",
       "  <tbody>\n",
       "    <tr>\n",
       "      <th>0</th>\n",
       "      <td>5</td>\n",
       "      <td>1</td>\n",
       "    </tr>\n",
       "  </tbody>\n",
       "</table>\n",
       "</div>"
      ],
      "text/plain": [
       "  stars  number_of_reviews\n",
       "0     5                  1"
      ]
     },
     "execution_count": 10,
     "metadata": {},
     "output_type": "execute_result"
    }
   ],
   "source": [
    "import pandas as pd\n",
    "\n",
    "# Sample DataFrame (replace this with your actual DataFrame)\n",
    "# yelp_reviews = pd.read_csv('path_to_yelp_reviews.csv')  # Load your DataFrame\n",
    "\n",
    "# Filter reviews for Lo-Lo's Chicken & Waffles\n",
    "lo_los_reviews = yelp_reviews[yelp_reviews['business_name'] == \"Lo-Lo's Chicken & Waffles\"]\n",
    "\n",
    "# Group by stars and count the number of reviews\n",
    "review_counts = lo_los_reviews.groupby('stars').size().reset_index(name='number_of_reviews')\n",
    "\n",
    "# Sort by stars in ascending order\n",
    "review_counts_sorted = review_counts.sort_values(by='stars')\n",
    "\n",
    "# Display the first few rows of the result\n",
    "review_counts_sorted.head()\n"
   ]
  },
  {
   "cell_type": "markdown",
   "id": "a31adbda-5678-4873-aadf-11815587ade1",
   "metadata": {},
   "source": [
    "### 5 -Find the number of 5-star reviews earned by Lo-Lo's Chicken & Waffles."
   ]
  },
  {
   "cell_type": "code",
   "execution_count": 11,
   "id": "b2454428-0bd6-48ee-9817-f261c54b1db6",
   "metadata": {},
   "outputs": [
    {
     "data": {
      "text/plain": [
       "1"
      ]
     },
     "execution_count": 11,
     "metadata": {},
     "output_type": "execute_result"
    }
   ],
   "source": [
    "import pandas as pd\n",
    "\n",
    "# Sample DataFrame (replace this with your actual DataFrame)\n",
    "# yelp_reviews = pd.read_csv('path_to_yelp_reviews.csv')  # Load your DataFrame\n",
    "\n",
    "# Filter for 5-star reviews for Lo-Lo's Chicken & Waffles\n",
    "five_star_reviews = yelp_reviews[\n",
    "    (yelp_reviews['business_name'] == \"Lo-Lo's Chicken & Waffles\") & \n",
    "    (yelp_reviews['stars'] == '5')\n",
    "]\n",
    "\n",
    "# Count the number of 5-star reviews\n",
    "number_of_five_star_reviews = five_star_reviews.shape[0]\n",
    "\n",
    "# Display the result\n",
    "number_of_five_star_reviews\n"
   ]
  },
  {
   "cell_type": "markdown",
   "id": "f8949cb2-7ba8-4729-9d49-0134f59bd9d0",
   "metadata": {},
   "source": [
    "### 6 -Cast stars column values to integer and return with all other column values. Be aware that certain rows contain non integer values.\n",
    "You need to remove such rows. You are allowed to examine and explore the dataset before making a solution."
   ]
  },
  {
   "cell_type": "code",
   "execution_count": 38,
   "id": "538db81c-2dc0-4b4e-bc62-d38af35aa5c2",
   "metadata": {},
   "outputs": [
    {
     "name": "stdout",
     "output_type": "stream",
     "text": [
      "[ 5.  4.  3.  1.  2. nan]\n"
     ]
    },
    {
     "data": {
      "text/html": [
       "<div>\n",
       "<style scoped>\n",
       "    .dataframe tbody tr th:only-of-type {\n",
       "        vertical-align: middle;\n",
       "    }\n",
       "\n",
       "    .dataframe tbody tr th {\n",
       "        vertical-align: top;\n",
       "    }\n",
       "\n",
       "    .dataframe thead th {\n",
       "        text-align: right;\n",
       "    }\n",
       "</style>\n",
       "<table border=\"1\" class=\"dataframe\">\n",
       "  <thead>\n",
       "    <tr style=\"text-align: right;\">\n",
       "      <th></th>\n",
       "      <th>business_name</th>\n",
       "      <th>review_id</th>\n",
       "      <th>user_id</th>\n",
       "      <th>stars</th>\n",
       "      <th>review_date</th>\n",
       "      <th>review_text</th>\n",
       "      <th>funny</th>\n",
       "      <th>useful</th>\n",
       "      <th>cool</th>\n",
       "    </tr>\n",
       "  </thead>\n",
       "  <tbody>\n",
       "    <tr>\n",
       "      <th>0</th>\n",
       "      <td>AutohausAZ</td>\n",
       "      <td>C4TSIEcazRay0qIRPeMAFg</td>\n",
       "      <td>jlbPUcCRiXlMtarzi9sW5w</td>\n",
       "      <td>5</td>\n",
       "      <td>2011-06-27</td>\n",
       "      <td>Autohaus is my main source for parts for an ol...</td>\n",
       "      <td>1</td>\n",
       "      <td>2</td>\n",
       "      <td>1</td>\n",
       "    </tr>\n",
       "    <tr>\n",
       "      <th>1</th>\n",
       "      <td>Citizen Public House</td>\n",
       "      <td>ZZ0paqUsSX-VJbfodTp1cQ</td>\n",
       "      <td>EeCWSGwMAPzwe_c1Aumd1w</td>\n",
       "      <td>4</td>\n",
       "      <td>2013-03-18</td>\n",
       "      <td>First time in PHX.  Friend recommended.  Frien...</td>\n",
       "      <td>0</td>\n",
       "      <td>0</td>\n",
       "      <td>0</td>\n",
       "    </tr>\n",
       "    <tr>\n",
       "      <th>2</th>\n",
       "      <td>Otto Pizza &amp; Pastry</td>\n",
       "      <td>pF6W5JOPBK6kOXTB58cYrw</td>\n",
       "      <td>JG1Gd2mN2Qk7UpCqAUI-BQ</td>\n",
       "      <td>5</td>\n",
       "      <td>2013-03-14</td>\n",
       "      <td>LOVE THIS PIZZA!  This is now one of my favori...</td>\n",
       "      <td>0</td>\n",
       "      <td>0</td>\n",
       "      <td>0</td>\n",
       "    </tr>\n",
       "    <tr>\n",
       "      <th>3</th>\n",
       "      <td>Giant Hamburgers</td>\n",
       "      <td>QBddRcflAcXwE2qhsLVv7w</td>\n",
       "      <td>T90ybanuLhAr0_s99GDeeg</td>\n",
       "      <td>3</td>\n",
       "      <td>2009-03-27</td>\n",
       "      <td>ok, so I tried this place out based on other r...</td>\n",
       "      <td>0</td>\n",
       "      <td>1</td>\n",
       "      <td>1</td>\n",
       "    </tr>\n",
       "    <tr>\n",
       "      <th>4</th>\n",
       "      <td>Tammie Coe Cakes</td>\n",
       "      <td>Y8UMm_Ng9oEpJbIygoGbZQ</td>\n",
       "      <td>MWt24-6bfv_OHLKhwMQ0Tw</td>\n",
       "      <td>3</td>\n",
       "      <td>2008-08-25</td>\n",
       "      <td>Overrated. The treats are tasty but certainly ...</td>\n",
       "      <td>1</td>\n",
       "      <td>3</td>\n",
       "      <td>2</td>\n",
       "    </tr>\n",
       "  </tbody>\n",
       "</table>\n",
       "</div>"
      ],
      "text/plain": [
       "          business_name               review_id                 user_id  \\\n",
       "0            AutohausAZ  C4TSIEcazRay0qIRPeMAFg  jlbPUcCRiXlMtarzi9sW5w   \n",
       "1  Citizen Public House  ZZ0paqUsSX-VJbfodTp1cQ  EeCWSGwMAPzwe_c1Aumd1w   \n",
       "2   Otto Pizza & Pastry  pF6W5JOPBK6kOXTB58cYrw  JG1Gd2mN2Qk7UpCqAUI-BQ   \n",
       "3      Giant Hamburgers  QBddRcflAcXwE2qhsLVv7w  T90ybanuLhAr0_s99GDeeg   \n",
       "4      Tammie Coe Cakes  Y8UMm_Ng9oEpJbIygoGbZQ  MWt24-6bfv_OHLKhwMQ0Tw   \n",
       "\n",
       "   stars review_date                                        review_text  \\\n",
       "0      5  2011-06-27  Autohaus is my main source for parts for an ol...   \n",
       "1      4  2013-03-18  First time in PHX.  Friend recommended.  Frien...   \n",
       "2      5  2013-03-14  LOVE THIS PIZZA!  This is now one of my favori...   \n",
       "3      3  2009-03-27  ok, so I tried this place out based on other r...   \n",
       "4      3  2008-08-25  Overrated. The treats are tasty but certainly ...   \n",
       "\n",
       "   funny  useful  cool  \n",
       "0      1       2     1  \n",
       "1      0       0     0  \n",
       "2      0       0     0  \n",
       "3      0       1     1  \n",
       "4      1       3     2  "
      ]
     },
     "execution_count": 38,
     "metadata": {},
     "output_type": "execute_result"
    }
   ],
   "source": [
    "import pandas as pd\n",
    "\n",
    "# Sample DataFrame (replace this with your actual DataFrame)\n",
    "# yelp_reviews = pd.read_csv('path_to_yelp_reviews.csv')  # Load your DataFrame\n",
    "\n",
    "# Step 1: Explore the stars column\n",
    "print(yelp_reviews['stars'].unique())  # Check unique values to identify non-integer values\n",
    "\n",
    "# Step 2: Remove rows with non-integer values in the stars column\n",
    "# Use pd.to_numeric with errors='coerce' to convert non-numeric to NaN, then drop NaN values\n",
    "yelp_reviews['stars'] = pd.to_numeric(yelp_reviews['stars'], errors='coerce')\n",
    "yelp_reviews_cleaned = yelp_reviews.dropna(subset=['stars'])\n",
    "\n",
    "# Step 3: Cast stars to integer type\n",
    "yelp_reviews_cleaned['stars'] = yelp_reviews_cleaned['stars'].astype(int)\n",
    "\n",
    "# Display the cleaned DataFrame\n",
    "yelp_reviews_cleaned.head()\n"
   ]
  },
  {
   "cell_type": "markdown",
   "id": "3a50ce72-d79c-4cd1-83ee-ed830e0b2c69",
   "metadata": {},
   "source": [
    "### 7 -Find the number of entries per star.\n",
    "Output each number of stars along with the corresponding number of entries.\n",
    "Order records by stars in ascending order."
   ]
  },
  {
   "cell_type": "code",
   "execution_count": 39,
   "id": "7d940af5-061c-4f9f-bb00-ed3b061a9614",
   "metadata": {},
   "outputs": [
    {
     "data": {
      "text/html": [
       "<div>\n",
       "<style scoped>\n",
       "    .dataframe tbody tr th:only-of-type {\n",
       "        vertical-align: middle;\n",
       "    }\n",
       "\n",
       "    .dataframe tbody tr th {\n",
       "        vertical-align: top;\n",
       "    }\n",
       "\n",
       "    .dataframe thead th {\n",
       "        text-align: right;\n",
       "    }\n",
       "</style>\n",
       "<table border=\"1\" class=\"dataframe\">\n",
       "  <thead>\n",
       "    <tr style=\"text-align: right;\">\n",
       "      <th></th>\n",
       "      <th>stars</th>\n",
       "      <th>count</th>\n",
       "    </tr>\n",
       "  </thead>\n",
       "  <tbody>\n",
       "    <tr>\n",
       "      <th>0</th>\n",
       "      <td>1.0</td>\n",
       "      <td>7</td>\n",
       "    </tr>\n",
       "    <tr>\n",
       "      <th>1</th>\n",
       "      <td>2.0</td>\n",
       "      <td>11</td>\n",
       "    </tr>\n",
       "    <tr>\n",
       "      <th>2</th>\n",
       "      <td>3.0</td>\n",
       "      <td>16</td>\n",
       "    </tr>\n",
       "    <tr>\n",
       "      <th>3</th>\n",
       "      <td>4.0</td>\n",
       "      <td>33</td>\n",
       "    </tr>\n",
       "    <tr>\n",
       "      <th>4</th>\n",
       "      <td>5.0</td>\n",
       "      <td>34</td>\n",
       "    </tr>\n",
       "  </tbody>\n",
       "</table>\n",
       "</div>"
      ],
      "text/plain": [
       "   stars  count\n",
       "0    1.0      7\n",
       "1    2.0     11\n",
       "2    3.0     16\n",
       "3    4.0     33\n",
       "4    5.0     34"
      ]
     },
     "execution_count": 39,
     "metadata": {},
     "output_type": "execute_result"
    }
   ],
   "source": [
    "import pandas as pd\n",
    "\n",
    "# Count the number of entries per star rating\n",
    "star_counts = yelp_reviews.groupby('stars').size().reset_index(name='count')\n",
    "\n",
    "# Sort by stars in ascending order\n",
    "star_counts_sorted = star_counts.sort_values(by='stars')\n",
    "\n",
    "# Display the result\n",
    "star_counts_sorted.head()\n"
   ]
  },
  {
   "cell_type": "markdown",
   "id": "43254507-a85a-41df-9642-ea9bb854214e",
   "metadata": {},
   "source": [
    "### 8 -Find the top 5 businesses with the most check-ins.\n",
    "Output the business id along with the number of check-ins."
   ]
  },
  {
   "cell_type": "code",
   "execution_count": 42,
   "id": "e47f7b24-41b5-420c-b5ed-0e75e9c82033",
   "metadata": {},
   "outputs": [
    {
     "data": {
      "text/html": [
       "<div>\n",
       "<style scoped>\n",
       "    .dataframe tbody tr th:only-of-type {\n",
       "        vertical-align: middle;\n",
       "    }\n",
       "\n",
       "    .dataframe tbody tr th {\n",
       "        vertical-align: top;\n",
       "    }\n",
       "\n",
       "    .dataframe thead th {\n",
       "        text-align: right;\n",
       "    }\n",
       "</style>\n",
       "<table border=\"1\" class=\"dataframe\">\n",
       "  <thead>\n",
       "    <tr style=\"text-align: right;\">\n",
       "      <th></th>\n",
       "      <th>business_id</th>\n",
       "      <th>checkins</th>\n",
       "    </tr>\n",
       "  </thead>\n",
       "  <tbody>\n",
       "    <tr>\n",
       "      <th>8</th>\n",
       "      <td>4k3RlMAMd46DZ_JyZU0lMg</td>\n",
       "      <td>137</td>\n",
       "    </tr>\n",
       "    <tr>\n",
       "      <th>50</th>\n",
       "      <td>TkEMlu88OZn9TKZyeY9CJg</td>\n",
       "      <td>39</td>\n",
       "    </tr>\n",
       "    <tr>\n",
       "      <th>9</th>\n",
       "      <td>4p6Wce7Ed707QS2-yQkvZw</td>\n",
       "      <td>31</td>\n",
       "    </tr>\n",
       "    <tr>\n",
       "      <th>29</th>\n",
       "      <td>Ehy00JWQixgoXzisVKhvag</td>\n",
       "      <td>22</td>\n",
       "    </tr>\n",
       "    <tr>\n",
       "      <th>89</th>\n",
       "      <td>ujgpePdD8Q-fP1mPFnw0Qw</td>\n",
       "      <td>17</td>\n",
       "    </tr>\n",
       "  </tbody>\n",
       "</table>\n",
       "</div>"
      ],
      "text/plain": [
       "               business_id  checkins\n",
       "8   4k3RlMAMd46DZ_JyZU0lMg       137\n",
       "50  TkEMlu88OZn9TKZyeY9CJg        39\n",
       "9   4p6Wce7Ed707QS2-yQkvZw        31\n",
       "29  Ehy00JWQixgoXzisVKhvag        22\n",
       "89  ujgpePdD8Q-fP1mPFnw0Qw        17"
      ]
     },
     "execution_count": 42,
     "metadata": {},
     "output_type": "execute_result"
    }
   ],
   "source": [
    "import pandas as pd\n",
    "\n",
    "# Group by business_id and sum the check-ins\n",
    "checkin_counts = yelp_checkin.groupby('business_id')['checkins'].sum().reset_index()\n",
    "\n",
    "# Sort the results by checkins in descending order\n",
    "top_checkins = checkin_counts.sort_values(by='checkins', ascending=False)\n",
    "\n",
    "# Select the top 5 businesses\n",
    "top_5_businesses = top_checkins.head(5)\n",
    "\n",
    "# Display the result\n",
    "top_5_businesses.head()\n"
   ]
  },
  {
   "cell_type": "markdown",
   "id": "aa566859-a379-4bc6-a93f-80efafa845ba",
   "metadata": {},
   "source": [
    "### 9 -Find the average number of stars for each state.\n",
    "Output the state name along with the corresponding average number of stars."
   ]
  },
  {
   "cell_type": "code",
   "execution_count": 43,
   "id": "c98cc48e-2b5d-493f-81e0-0648dd58ea7b",
   "metadata": {},
   "outputs": [
    {
     "data": {
      "text/html": [
       "<div>\n",
       "<style scoped>\n",
       "    .dataframe tbody tr th:only-of-type {\n",
       "        vertical-align: middle;\n",
       "    }\n",
       "\n",
       "    .dataframe tbody tr th {\n",
       "        vertical-align: top;\n",
       "    }\n",
       "\n",
       "    .dataframe thead th {\n",
       "        text-align: right;\n",
       "    }\n",
       "</style>\n",
       "<table border=\"1\" class=\"dataframe\">\n",
       "  <thead>\n",
       "    <tr style=\"text-align: right;\">\n",
       "      <th></th>\n",
       "      <th>state</th>\n",
       "      <th>average_stars</th>\n",
       "    </tr>\n",
       "  </thead>\n",
       "  <tbody>\n",
       "    <tr>\n",
       "      <th>0</th>\n",
       "      <td>AZ</td>\n",
       "      <td>3.803030</td>\n",
       "    </tr>\n",
       "    <tr>\n",
       "      <th>1</th>\n",
       "      <td>BW</td>\n",
       "      <td>4.166667</td>\n",
       "    </tr>\n",
       "    <tr>\n",
       "      <th>2</th>\n",
       "      <td>EDH</td>\n",
       "      <td>5.000000</td>\n",
       "    </tr>\n",
       "    <tr>\n",
       "      <th>3</th>\n",
       "      <td>IL</td>\n",
       "      <td>5.000000</td>\n",
       "    </tr>\n",
       "    <tr>\n",
       "      <th>4</th>\n",
       "      <td>NC</td>\n",
       "      <td>3.285714</td>\n",
       "    </tr>\n",
       "  </tbody>\n",
       "</table>\n",
       "</div>"
      ],
      "text/plain": [
       "  state  average_stars\n",
       "0    AZ       3.803030\n",
       "1    BW       4.166667\n",
       "2   EDH       5.000000\n",
       "3    IL       5.000000\n",
       "4    NC       3.285714"
      ]
     },
     "execution_count": 43,
     "metadata": {},
     "output_type": "execute_result"
    }
   ],
   "source": [
    "import pandas as pd\n",
    "\n",
    "# Group by state and calculate the average number of stars\n",
    "average_stars_by_state = yelp_business.groupby('state')['stars'].mean().reset_index()\n",
    "\n",
    "# Rename the columns for clarity\n",
    "average_stars_by_state.columns = ['state', 'average_stars']\n",
    "\n",
    "# Sort by state (optional)\n",
    "average_stars_by_state = average_stars_by_state.sort_values(by='state')\n",
    "\n",
    "# Display the result\n",
    "average_stars_by_state.head()\n"
   ]
  },
  {
   "cell_type": "markdown",
   "id": "ac231e66-cbd6-4051-bd8c-4b81fd7eed95",
   "metadata": {},
   "source": [
    "### 10 -Find the number of open businesses."
   ]
  },
  {
   "cell_type": "code",
   "execution_count": 44,
   "id": "d054b7a6-15e0-41f9-aeee-3518a8481732",
   "metadata": {},
   "outputs": [
    {
     "data": {
      "text/plain": [
       "78"
      ]
     },
     "execution_count": 44,
     "metadata": {},
     "output_type": "execute_result"
    }
   ],
   "source": [
    "import pandas as pd\n",
    "\n",
    "# Count the number of open businesses\n",
    "number_of_open_businesses = yelp_business[yelp_business['is_open'] == 1].shape[0]\n",
    "\n",
    "# Display the result\n",
    "number_of_open_businesses\n"
   ]
  },
  {
   "cell_type": "markdown",
   "id": "1d2903e4-9890-4244-a084-a5f5f5a7d8c0",
   "metadata": {},
   "source": [
    "### 11 -Find the review count for one-star businesses from yelp.\n",
    "Output the name along with the corresponding review count."
   ]
  },
  {
   "cell_type": "code",
   "execution_count": 45,
   "id": "47e6eb52-3684-4bde-8c44-48138302d4a0",
   "metadata": {},
   "outputs": [
    {
     "data": {
      "text/html": [
       "<div>\n",
       "<style scoped>\n",
       "    .dataframe tbody tr th:only-of-type {\n",
       "        vertical-align: middle;\n",
       "    }\n",
       "\n",
       "    .dataframe tbody tr th {\n",
       "        vertical-align: top;\n",
       "    }\n",
       "\n",
       "    .dataframe thead th {\n",
       "        text-align: right;\n",
       "    }\n",
       "</style>\n",
       "<table border=\"1\" class=\"dataframe\">\n",
       "  <thead>\n",
       "    <tr style=\"text-align: right;\">\n",
       "      <th></th>\n",
       "      <th>name</th>\n",
       "      <th>review_count</th>\n",
       "    </tr>\n",
       "  </thead>\n",
       "  <tbody>\n",
       "    <tr>\n",
       "      <th>0</th>\n",
       "      <td>All Colors Mobile Bumper Repair</td>\n",
       "      <td>4</td>\n",
       "    </tr>\n",
       "    <tr>\n",
       "      <th>1</th>\n",
       "      <td>Dry Clean Vegas</td>\n",
       "      <td>4</td>\n",
       "    </tr>\n",
       "    <tr>\n",
       "      <th>2</th>\n",
       "      <td>The Cuyahoga Room</td>\n",
       "      <td>3</td>\n",
       "    </tr>\n",
       "  </tbody>\n",
       "</table>\n",
       "</div>"
      ],
      "text/plain": [
       "                              name  review_count\n",
       "0  All Colors Mobile Bumper Repair             4\n",
       "1                  Dry Clean Vegas             4\n",
       "2                The Cuyahoga Room             3"
      ]
     },
     "execution_count": 45,
     "metadata": {},
     "output_type": "execute_result"
    }
   ],
   "source": [
    "import pandas as pd\n",
    "\n",
    "# Filter for one-star businesses\n",
    "one_star_businesses = yelp_business[yelp_business['stars'] == 1]\n",
    "\n",
    "# Group by business name and get the review count\n",
    "result = one_star_businesses.groupby('name', as_index=False)['review_count'].sum()\n",
    "\n",
    "# Display the first few rows of the result\n",
    "result.head()\n"
   ]
  },
  {
   "cell_type": "markdown",
   "id": "8fe5a177-9830-4480-ad27-8e33229e05db",
   "metadata": {},
   "source": [
    "### 12 -Find the top business categories based on the total number of reviews. Output the category along with the total number of reviews. Order by total reviews in descending order."
   ]
  },
  {
   "cell_type": "code",
   "execution_count": 46,
   "id": "ad6f95a0-5ab6-4014-a896-258d1bc2c141",
   "metadata": {},
   "outputs": [],
   "source": [
    "# Import your libraries\n",
    "import pandas as pd\n",
    "\n",
    "# Start writing code\n",
    "yelp_business.head()\n",
    "result = yelp_business[['review_count','categories']].set_index('review_count').apply(lambda x:x.str.split(';').explode()).reset_index()\n",
    "result =result.groupby(['categories'])['review_count'].sum().to_frame('total_reviews').reset_index().sort_values('total_reviews',ascending=False)"
   ]
  },
  {
   "cell_type": "code",
   "execution_count": 48,
   "id": "3fa7440a-c61d-49e3-be58-fce77f98ea1a",
   "metadata": {},
   "outputs": [
    {
     "data": {
      "text/html": [
       "<div>\n",
       "<style scoped>\n",
       "    .dataframe tbody tr th:only-of-type {\n",
       "        vertical-align: middle;\n",
       "    }\n",
       "\n",
       "    .dataframe tbody tr th {\n",
       "        vertical-align: top;\n",
       "    }\n",
       "\n",
       "    .dataframe thead th {\n",
       "        text-align: right;\n",
       "    }\n",
       "</style>\n",
       "<table border=\"1\" class=\"dataframe\">\n",
       "  <thead>\n",
       "    <tr style=\"text-align: right;\">\n",
       "      <th></th>\n",
       "      <th>categories</th>\n",
       "      <th>total_reviews</th>\n",
       "    </tr>\n",
       "  </thead>\n",
       "  <tbody>\n",
       "    <tr>\n",
       "      <th>141</th>\n",
       "      <td>Restaurants</td>\n",
       "      <td>1703</td>\n",
       "    </tr>\n",
       "    <tr>\n",
       "      <th>62</th>\n",
       "      <td>Food</td>\n",
       "      <td>508</td>\n",
       "    </tr>\n",
       "    <tr>\n",
       "      <th>133</th>\n",
       "      <td>Pizza</td>\n",
       "      <td>456</td>\n",
       "    </tr>\n",
       "    <tr>\n",
       "      <th>33</th>\n",
       "      <td>Chinese</td>\n",
       "      <td>417</td>\n",
       "    </tr>\n",
       "    <tr>\n",
       "      <th>95</th>\n",
       "      <td>Japanese</td>\n",
       "      <td>350</td>\n",
       "    </tr>\n",
       "  </tbody>\n",
       "</table>\n",
       "</div>"
      ],
      "text/plain": [
       "      categories  total_reviews\n",
       "141  Restaurants           1703\n",
       "62          Food            508\n",
       "133        Pizza            456\n",
       "33       Chinese            417\n",
       "95      Japanese            350"
      ]
     },
     "execution_count": 48,
     "metadata": {},
     "output_type": "execute_result"
    }
   ],
   "source": [
    "result.head()"
   ]
  },
  {
   "cell_type": "markdown",
   "id": "90d51fd3-f49a-49b0-aca4-60745ef3b3c1",
   "metadata": {},
   "source": [
    "### 13 -Find the top 5 businesses with most reviews. Assume that each row has a unique business_id such that the total reviews for each business is listed on each row. Output the business name along with the total number of reviews and order your results by the total reviews in descending order."
   ]
  },
  {
   "cell_type": "code",
   "execution_count": 49,
   "id": "4db9c811-47db-4924-8085-fd3ad451ac95",
   "metadata": {},
   "outputs": [
    {
     "data": {
      "text/html": [
       "<div>\n",
       "<style scoped>\n",
       "    .dataframe tbody tr th:only-of-type {\n",
       "        vertical-align: middle;\n",
       "    }\n",
       "\n",
       "    .dataframe tbody tr th {\n",
       "        vertical-align: top;\n",
       "    }\n",
       "\n",
       "    .dataframe thead th {\n",
       "        text-align: right;\n",
       "    }\n",
       "</style>\n",
       "<table border=\"1\" class=\"dataframe\">\n",
       "  <thead>\n",
       "    <tr style=\"text-align: right;\">\n",
       "      <th></th>\n",
       "      <th>name</th>\n",
       "      <th>review_count</th>\n",
       "    </tr>\n",
       "  </thead>\n",
       "  <tbody>\n",
       "    <tr>\n",
       "      <th>68</th>\n",
       "      <td>Iron Chef</td>\n",
       "      <td>331</td>\n",
       "    </tr>\n",
       "    <tr>\n",
       "      <th>88</th>\n",
       "      <td>Jacs Dining and Tap House</td>\n",
       "      <td>197</td>\n",
       "    </tr>\n",
       "    <tr>\n",
       "      <th>63</th>\n",
       "      <td>Grimaldi's Pizzeria</td>\n",
       "      <td>187</td>\n",
       "    </tr>\n",
       "    <tr>\n",
       "      <th>84</th>\n",
       "      <td>Signs Restaurant</td>\n",
       "      <td>120</td>\n",
       "    </tr>\n",
       "    <tr>\n",
       "      <th>86</th>\n",
       "      <td>Kassab's</td>\n",
       "      <td>101</td>\n",
       "    </tr>\n",
       "  </tbody>\n",
       "</table>\n",
       "</div>"
      ],
      "text/plain": [
       "                         name  review_count\n",
       "68                  Iron Chef           331\n",
       "88  Jacs Dining and Tap House           197\n",
       "63        Grimaldi's Pizzeria           187\n",
       "84           Signs Restaurant           120\n",
       "86                   Kassab's           101"
      ]
     },
     "execution_count": 49,
     "metadata": {},
     "output_type": "execute_result"
    }
   ],
   "source": [
    "import pandas as pd\n",
    "\n",
    "# Assuming yelp_business DataFrame is already defined\n",
    "\n",
    "# Sort the DataFrame by review_count in descending order\n",
    "top_businesses = yelp_business.sort_values(by='review_count', ascending=False)\n",
    "\n",
    "# Select the top 5 businesses and the relevant columns\n",
    "result = top_businesses[['name', 'review_count']].head(5)\n",
    "\n",
    "# Display the result\n",
    "result\n"
   ]
  },
  {
   "cell_type": "markdown",
   "id": "602b1aa1-79c0-46c7-9760-7f5080c7b2b7",
   "metadata": {},
   "source": [
    "### 14 -Find the top 5 states with the most 5 star businesses. Output the state name along with the number of 5-star businesses and order records by the number of 5-star businesses in descending order. In case there are ties in the number of businesses, return all the unique states. If two states have the same result, sort them in alphabetical order."
   ]
  },
  {
   "cell_type": "code",
   "execution_count": 51,
   "id": "8cf3fa32-8af2-4ef7-baf6-f1cb7c193214",
   "metadata": {},
   "outputs": [
    {
     "data": {
      "text/html": [
       "<div>\n",
       "<style scoped>\n",
       "    .dataframe tbody tr th:only-of-type {\n",
       "        vertical-align: middle;\n",
       "    }\n",
       "\n",
       "    .dataframe tbody tr th {\n",
       "        vertical-align: top;\n",
       "    }\n",
       "\n",
       "    .dataframe thead th {\n",
       "        text-align: right;\n",
       "    }\n",
       "</style>\n",
       "<table border=\"1\" class=\"dataframe\">\n",
       "  <thead>\n",
       "    <tr style=\"text-align: right;\">\n",
       "      <th></th>\n",
       "      <th>state</th>\n",
       "      <th>n_businesses</th>\n",
       "    </tr>\n",
       "  </thead>\n",
       "  <tbody>\n",
       "    <tr>\n",
       "      <th>0</th>\n",
       "      <td>AZ</td>\n",
       "      <td>10</td>\n",
       "    </tr>\n",
       "    <tr>\n",
       "      <th>6</th>\n",
       "      <td>ON</td>\n",
       "      <td>5</td>\n",
       "    </tr>\n",
       "    <tr>\n",
       "      <th>4</th>\n",
       "      <td>NV</td>\n",
       "      <td>4</td>\n",
       "    </tr>\n",
       "    <tr>\n",
       "      <th>3</th>\n",
       "      <td>IL</td>\n",
       "      <td>3</td>\n",
       "    </tr>\n",
       "    <tr>\n",
       "      <th>5</th>\n",
       "      <td>OH</td>\n",
       "      <td>3</td>\n",
       "    </tr>\n",
       "    <tr>\n",
       "      <th>8</th>\n",
       "      <td>WI</td>\n",
       "      <td>3</td>\n",
       "    </tr>\n",
       "  </tbody>\n",
       "</table>\n",
       "</div>"
      ],
      "text/plain": [
       "  state  n_businesses\n",
       "0    AZ            10\n",
       "6    ON             5\n",
       "4    NV             4\n",
       "3    IL             3\n",
       "5    OH             3\n",
       "8    WI             3"
      ]
     },
     "execution_count": 51,
     "metadata": {},
     "output_type": "execute_result"
    }
   ],
   "source": [
    "import pandas as pd\n",
    "\n",
    "# Filter for 5-star businesses\n",
    "result = yelp_business[yelp_business.stars == 5]\n",
    "\n",
    "# Group by state and count the number of businesses\n",
    "result = result.groupby('state')['business_id'].count().to_frame('n_businesses').reset_index()\n",
    "\n",
    "# Rank the states based on the number of businesses\n",
    "result['rank'] = result['n_businesses'].rank(method='min', ascending=False)\n",
    "\n",
    "# Filter to get the top 5 states based on rank\n",
    "result = result[result['rank'] <= 5][['state', 'n_businesses']]\n",
    "\n",
    "# Sort by number of businesses and state name\n",
    "result = result.sort_values(by=['n_businesses', 'state'], ascending=[False, True])\n",
    "result"
   ]
  },
  {
   "cell_type": "markdown",
   "id": "2f1a0363-aa6f-422f-85ad-dca8647c0ac5",
   "metadata": {},
   "source": [
    "### 15 -Find Yelp food reviews containing any of the keywords: 'food', 'pizza', 'sandwich', or 'burger'. List the business name, address, and the state which satisfies the requirement."
   ]
  },
  {
   "cell_type": "code",
   "execution_count": 52,
   "id": "7192eb3f-5619-4ffd-aab9-b4b69f3bfc00",
   "metadata": {},
   "outputs": [
    {
     "data": {
      "text/html": [
       "<div>\n",
       "<style scoped>\n",
       "    .dataframe tbody tr th:only-of-type {\n",
       "        vertical-align: middle;\n",
       "    }\n",
       "\n",
       "    .dataframe tbody tr th {\n",
       "        vertical-align: top;\n",
       "    }\n",
       "\n",
       "    .dataframe thead th {\n",
       "        text-align: right;\n",
       "    }\n",
       "</style>\n",
       "<table border=\"1\" class=\"dataframe\">\n",
       "  <thead>\n",
       "    <tr style=\"text-align: right;\">\n",
       "      <th></th>\n",
       "      <th>business_name</th>\n",
       "      <th>address</th>\n",
       "      <th>state</th>\n",
       "    </tr>\n",
       "  </thead>\n",
       "  <tbody>\n",
       "    <tr>\n",
       "      <th>0</th>\n",
       "      <td>Chipotle Mexican Grill</td>\n",
       "      <td>903 W Anthony Dr, Ste A</td>\n",
       "      <td>IL</td>\n",
       "    </tr>\n",
       "  </tbody>\n",
       "</table>\n",
       "</div>"
      ],
      "text/plain": [
       "            business_name                  address state\n",
       "0  Chipotle Mexican Grill  903 W Anthony Dr, Ste A    IL"
      ]
     },
     "execution_count": 52,
     "metadata": {},
     "output_type": "execute_result"
    }
   ],
   "source": [
    "import pandas as pd\n",
    "\n",
    "# Assuming you've already loaded your DataFrames\n",
    "# yelp_business = pd.read_csv('path_to_yelp_business.csv')\n",
    "# yelp_reviews = pd.read_csv('path_to_yelp_reviews.csv')\n",
    "\n",
    "# Define the keywords\n",
    "keywords = ['food', 'pizza', 'sandwich', 'burger']\n",
    "\n",
    "# Merge the two DataFrames on the business name\n",
    "merged_df = pd.merge(yelp_reviews, yelp_business, left_on='business_name', right_on='name')\n",
    "\n",
    "# Filter reviews containing any of the keywords\n",
    "filtered_reviews = merged_df[merged_df['review_text'].str.contains('|'.join(keywords), case=False, na=False)]\n",
    "\n",
    "# Select the required columns: business name, address, and state\n",
    "result = filtered_reviews[['business_name', 'address', 'state']]\n",
    "\n",
    "# Display the result\n",
    "result.head()\n"
   ]
  }
 ],
 "metadata": {
  "kernelspec": {
   "display_name": "Python 3 (ipykernel)",
   "language": "python",
   "name": "python3"
  },
  "language_info": {
   "codemirror_mode": {
    "name": "ipython",
    "version": 3
   },
   "file_extension": ".py",
   "mimetype": "text/x-python",
   "name": "python",
   "nbconvert_exporter": "python",
   "pygments_lexer": "ipython3",
   "version": "3.11.5"
  },
  "widgets": {
   "application/vnd.jupyter.widget-state+json": {
    "state": {},
    "version_major": 2,
    "version_minor": 0
   }
  }
 },
 "nbformat": 4,
 "nbformat_minor": 5
}
